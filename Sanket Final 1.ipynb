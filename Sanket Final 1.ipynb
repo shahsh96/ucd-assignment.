{
 "cells": [
  {
   "cell_type": "code",
   "execution_count": 2,
   "id": "63180507",
   "metadata": {},
   "outputs": [],
   "source": [
    "# Package imports\n",
    "import os\n",
    "import numpy as np\n",
    "import pandas as pd\n",
    "import matplotlib.pyplot as plt\n",
    "import seaborn as sns\n",
    "import requests\n",
    "import pandas as pd\n",
    "from functools import reduce"
   ]
  },
  {
   "cell_type": "code",
   "execution_count": 3,
   "id": "824e4008",
   "metadata": {},
   "outputs": [
    {
     "data": {
      "text/html": [
       "<div>\n",
       "<style scoped>\n",
       "    .dataframe tbody tr th:only-of-type {\n",
       "        vertical-align: middle;\n",
       "    }\n",
       "\n",
       "    .dataframe tbody tr th {\n",
       "        vertical-align: top;\n",
       "    }\n",
       "\n",
       "    .dataframe thead th {\n",
       "        text-align: right;\n",
       "    }\n",
       "</style>\n",
       "<table border=\"1\" class=\"dataframe\">\n",
       "  <thead>\n",
       "    <tr style=\"text-align: right;\">\n",
       "      <th></th>\n",
       "      <th>Date</th>\n",
       "      <th>Open Netflix</th>\n",
       "      <th>High Netflix</th>\n",
       "      <th>Low Netflix</th>\n",
       "      <th>Close Netflix</th>\n",
       "      <th>Adj Close Netflix</th>\n",
       "      <th>Volume Netflix</th>\n",
       "    </tr>\n",
       "  </thead>\n",
       "  <tbody>\n",
       "    <tr>\n",
       "      <th>0</th>\n",
       "      <td>02/01/2019</td>\n",
       "      <td>259.279999</td>\n",
       "      <td>269.750000</td>\n",
       "      <td>256.579987</td>\n",
       "      <td>267.660004</td>\n",
       "      <td>267.660004</td>\n",
       "      <td>11679500</td>\n",
       "    </tr>\n",
       "    <tr>\n",
       "      <th>1</th>\n",
       "      <td>03/01/2019</td>\n",
       "      <td>270.200012</td>\n",
       "      <td>275.790009</td>\n",
       "      <td>264.429993</td>\n",
       "      <td>271.200012</td>\n",
       "      <td>271.200012</td>\n",
       "      <td>14969600</td>\n",
       "    </tr>\n",
       "    <tr>\n",
       "      <th>2</th>\n",
       "      <td>04/01/2019</td>\n",
       "      <td>281.880005</td>\n",
       "      <td>297.799988</td>\n",
       "      <td>278.540009</td>\n",
       "      <td>297.570007</td>\n",
       "      <td>297.570007</td>\n",
       "      <td>19330100</td>\n",
       "    </tr>\n",
       "    <tr>\n",
       "      <th>3</th>\n",
       "      <td>07/01/2019</td>\n",
       "      <td>302.100006</td>\n",
       "      <td>316.799988</td>\n",
       "      <td>301.649994</td>\n",
       "      <td>315.339996</td>\n",
       "      <td>315.339996</td>\n",
       "      <td>18620100</td>\n",
       "    </tr>\n",
       "    <tr>\n",
       "      <th>4</th>\n",
       "      <td>08/01/2019</td>\n",
       "      <td>319.980011</td>\n",
       "      <td>320.589996</td>\n",
       "      <td>308.010010</td>\n",
       "      <td>320.269989</td>\n",
       "      <td>320.269989</td>\n",
       "      <td>15359200</td>\n",
       "    </tr>\n",
       "  </tbody>\n",
       "</table>\n",
       "</div>"
      ],
      "text/plain": [
       "         Date  Open Netflix  High Netflix  Low Netflix  Close Netflix  \\\n",
       "0  02/01/2019    259.279999    269.750000   256.579987     267.660004   \n",
       "1  03/01/2019    270.200012    275.790009   264.429993     271.200012   \n",
       "2  04/01/2019    281.880005    297.799988   278.540009     297.570007   \n",
       "3  07/01/2019    302.100006    316.799988   301.649994     315.339996   \n",
       "4  08/01/2019    319.980011    320.589996   308.010010     320.269989   \n",
       "\n",
       "   Adj Close Netflix  Volume Netflix  \n",
       "0         267.660004        11679500  \n",
       "1         271.200012        14969600  \n",
       "2         297.570007        19330100  \n",
       "3         315.339996        18620100  \n",
       "4         320.269989        15359200  "
      ]
     },
     "execution_count": 3,
     "metadata": {},
     "output_type": "execute_result"
    }
   ],
   "source": [
    "# The files are read from the below address\n",
    "NFLX=pd.read_csv(\"C:/Users/shahsh/NFLX.csv\")\n",
    "\n",
    "# The below depicts first few rows of the data imported\n",
    "NFLX.head()"
   ]
  },
  {
   "cell_type": "code",
   "execution_count": 4,
   "id": "3b91454a",
   "metadata": {},
   "outputs": [
    {
     "data": {
      "text/html": [
       "<div>\n",
       "<style scoped>\n",
       "    .dataframe tbody tr th:only-of-type {\n",
       "        vertical-align: middle;\n",
       "    }\n",
       "\n",
       "    .dataframe tbody tr th {\n",
       "        vertical-align: top;\n",
       "    }\n",
       "\n",
       "    .dataframe thead th {\n",
       "        text-align: right;\n",
       "    }\n",
       "</style>\n",
       "<table border=\"1\" class=\"dataframe\">\n",
       "  <thead>\n",
       "    <tr style=\"text-align: right;\">\n",
       "      <th></th>\n",
       "      <th>Date</th>\n",
       "      <th>Open Netflix</th>\n",
       "      <th>High Netflix</th>\n",
       "      <th>Low Netflix</th>\n",
       "      <th>Close Netflix</th>\n",
       "      <th>Adj Close Netflix</th>\n",
       "      <th>Volume Netflix</th>\n",
       "    </tr>\n",
       "  </thead>\n",
       "  <tbody>\n",
       "    <tr>\n",
       "      <th>0</th>\n",
       "      <td>02/01/2019</td>\n",
       "      <td>259.279999</td>\n",
       "      <td>269.750000</td>\n",
       "      <td>256.579987</td>\n",
       "      <td>267.660004</td>\n",
       "      <td>267.660004</td>\n",
       "      <td>11679500</td>\n",
       "    </tr>\n",
       "    <tr>\n",
       "      <th>1</th>\n",
       "      <td>03/01/2019</td>\n",
       "      <td>270.200012</td>\n",
       "      <td>275.790009</td>\n",
       "      <td>264.429993</td>\n",
       "      <td>271.200012</td>\n",
       "      <td>271.200012</td>\n",
       "      <td>14969600</td>\n",
       "    </tr>\n",
       "    <tr>\n",
       "      <th>2</th>\n",
       "      <td>04/01/2019</td>\n",
       "      <td>281.880005</td>\n",
       "      <td>297.799988</td>\n",
       "      <td>278.540009</td>\n",
       "      <td>297.570007</td>\n",
       "      <td>297.570007</td>\n",
       "      <td>19330100</td>\n",
       "    </tr>\n",
       "    <tr>\n",
       "      <th>3</th>\n",
       "      <td>07/01/2019</td>\n",
       "      <td>302.100006</td>\n",
       "      <td>316.799988</td>\n",
       "      <td>301.649994</td>\n",
       "      <td>315.339996</td>\n",
       "      <td>315.339996</td>\n",
       "      <td>18620100</td>\n",
       "    </tr>\n",
       "    <tr>\n",
       "      <th>4</th>\n",
       "      <td>08/01/2019</td>\n",
       "      <td>319.980011</td>\n",
       "      <td>320.589996</td>\n",
       "      <td>308.010010</td>\n",
       "      <td>320.269989</td>\n",
       "      <td>320.269989</td>\n",
       "      <td>15359200</td>\n",
       "    </tr>\n",
       "  </tbody>\n",
       "</table>\n",
       "</div>"
      ],
      "text/plain": [
       "         Date  Open Netflix  High Netflix  Low Netflix  Close Netflix  \\\n",
       "0  02/01/2019    259.279999    269.750000   256.579987     267.660004   \n",
       "1  03/01/2019    270.200012    275.790009   264.429993     271.200012   \n",
       "2  04/01/2019    281.880005    297.799988   278.540009     297.570007   \n",
       "3  07/01/2019    302.100006    316.799988   301.649994     315.339996   \n",
       "4  08/01/2019    319.980011    320.589996   308.010010     320.269989   \n",
       "\n",
       "   Adj Close Netflix  Volume Netflix  \n",
       "0         267.660004        11679500  \n",
       "1         271.200012        14969600  \n",
       "2         297.570007        19330100  \n",
       "3         315.339996        18620100  \n",
       "4         320.269989        15359200  "
      ]
     },
     "execution_count": 4,
     "metadata": {},
     "output_type": "execute_result"
    }
   ],
   "source": [
    "# The columns are named as per the Stock for ease but can be changed using the below command (shown for Diney below)\n",
    "NFLX.rename(columns={'Close': 'Close-NFLX', }, inplace=True)\n",
    "# Viewing the dataset after above.\n",
    "NFLX.head()"
   ]
  },
  {
   "cell_type": "code",
   "execution_count": 5,
   "id": "ca4acddf",
   "metadata": {},
   "outputs": [
    {
     "data": {
      "text/plain": [
       "Date                  object\n",
       "Open Netflix         float64\n",
       "High Netflix         float64\n",
       "Low Netflix          float64\n",
       "Close Netflix        float64\n",
       "Adj Close Netflix    float64\n",
       "Volume Netflix         int64\n",
       "dtype: object"
      ]
     },
     "execution_count": 5,
     "metadata": {},
     "output_type": "execute_result"
    }
   ],
   "source": [
    "# Reviewing datatypes after above command\n",
    "NFLX.dtypes"
   ]
  },
  {
   "cell_type": "code",
   "execution_count": 6,
   "id": "920cd4d4",
   "metadata": {},
   "outputs": [
    {
     "data": {
      "text/html": [
       "<div>\n",
       "<style scoped>\n",
       "    .dataframe tbody tr th:only-of-type {\n",
       "        vertical-align: middle;\n",
       "    }\n",
       "\n",
       "    .dataframe tbody tr th {\n",
       "        vertical-align: top;\n",
       "    }\n",
       "\n",
       "    .dataframe thead th {\n",
       "        text-align: right;\n",
       "    }\n",
       "</style>\n",
       "<table border=\"1\" class=\"dataframe\">\n",
       "  <thead>\n",
       "    <tr style=\"text-align: right;\">\n",
       "      <th></th>\n",
       "      <th>Date</th>\n",
       "      <th>Open Netflix</th>\n",
       "      <th>High Netflix</th>\n",
       "      <th>Low Netflix</th>\n",
       "      <th>Close Netflix</th>\n",
       "      <th>Adj Close Netflix</th>\n",
       "      <th>Volume Netflix</th>\n",
       "    </tr>\n",
       "  </thead>\n",
       "  <tbody>\n",
       "    <tr>\n",
       "      <th>0</th>\n",
       "      <td>2019-02-01</td>\n",
       "      <td>259.279999</td>\n",
       "      <td>269.750000</td>\n",
       "      <td>256.579987</td>\n",
       "      <td>267.660004</td>\n",
       "      <td>267.660004</td>\n",
       "      <td>11679500</td>\n",
       "    </tr>\n",
       "    <tr>\n",
       "      <th>1</th>\n",
       "      <td>2019-03-01</td>\n",
       "      <td>270.200012</td>\n",
       "      <td>275.790009</td>\n",
       "      <td>264.429993</td>\n",
       "      <td>271.200012</td>\n",
       "      <td>271.200012</td>\n",
       "      <td>14969600</td>\n",
       "    </tr>\n",
       "    <tr>\n",
       "      <th>2</th>\n",
       "      <td>2019-04-01</td>\n",
       "      <td>281.880005</td>\n",
       "      <td>297.799988</td>\n",
       "      <td>278.540009</td>\n",
       "      <td>297.570007</td>\n",
       "      <td>297.570007</td>\n",
       "      <td>19330100</td>\n",
       "    </tr>\n",
       "    <tr>\n",
       "      <th>3</th>\n",
       "      <td>2019-07-01</td>\n",
       "      <td>302.100006</td>\n",
       "      <td>316.799988</td>\n",
       "      <td>301.649994</td>\n",
       "      <td>315.339996</td>\n",
       "      <td>315.339996</td>\n",
       "      <td>18620100</td>\n",
       "    </tr>\n",
       "    <tr>\n",
       "      <th>4</th>\n",
       "      <td>2019-08-01</td>\n",
       "      <td>319.980011</td>\n",
       "      <td>320.589996</td>\n",
       "      <td>308.010010</td>\n",
       "      <td>320.269989</td>\n",
       "      <td>320.269989</td>\n",
       "      <td>15359200</td>\n",
       "    </tr>\n",
       "    <tr>\n",
       "      <th>...</th>\n",
       "      <td>...</td>\n",
       "      <td>...</td>\n",
       "      <td>...</td>\n",
       "      <td>...</td>\n",
       "      <td>...</td>\n",
       "      <td>...</td>\n",
       "      <td>...</td>\n",
       "    </tr>\n",
       "    <tr>\n",
       "      <th>858</th>\n",
       "      <td>2022-05-27</td>\n",
       "      <td>193.190002</td>\n",
       "      <td>195.250000</td>\n",
       "      <td>190.369995</td>\n",
       "      <td>195.190002</td>\n",
       "      <td>195.190002</td>\n",
       "      <td>8586000</td>\n",
       "    </tr>\n",
       "    <tr>\n",
       "      <th>859</th>\n",
       "      <td>2022-05-31</td>\n",
       "      <td>196.179993</td>\n",
       "      <td>199.949997</td>\n",
       "      <td>190.800003</td>\n",
       "      <td>197.440002</td>\n",
       "      <td>197.440002</td>\n",
       "      <td>11398500</td>\n",
       "    </tr>\n",
       "    <tr>\n",
       "      <th>860</th>\n",
       "      <td>2022-01-06</td>\n",
       "      <td>198.699997</td>\n",
       "      <td>202.740005</td>\n",
       "      <td>191.660004</td>\n",
       "      <td>192.910004</td>\n",
       "      <td>192.910004</td>\n",
       "      <td>8416200</td>\n",
       "    </tr>\n",
       "    <tr>\n",
       "      <th>861</th>\n",
       "      <td>2022-02-06</td>\n",
       "      <td>192.020004</td>\n",
       "      <td>205.470001</td>\n",
       "      <td>191.720001</td>\n",
       "      <td>205.089996</td>\n",
       "      <td>205.089996</td>\n",
       "      <td>9623100</td>\n",
       "    </tr>\n",
       "    <tr>\n",
       "      <th>862</th>\n",
       "      <td>2022-03-06</td>\n",
       "      <td>200.139999</td>\n",
       "      <td>202.949997</td>\n",
       "      <td>198.050003</td>\n",
       "      <td>198.979996</td>\n",
       "      <td>198.979996</td>\n",
       "      <td>7181700</td>\n",
       "    </tr>\n",
       "  </tbody>\n",
       "</table>\n",
       "<p>863 rows × 7 columns</p>\n",
       "</div>"
      ],
      "text/plain": [
       "          Date  Open Netflix  High Netflix  Low Netflix  Close Netflix  \\\n",
       "0   2019-02-01    259.279999    269.750000   256.579987     267.660004   \n",
       "1   2019-03-01    270.200012    275.790009   264.429993     271.200012   \n",
       "2   2019-04-01    281.880005    297.799988   278.540009     297.570007   \n",
       "3   2019-07-01    302.100006    316.799988   301.649994     315.339996   \n",
       "4   2019-08-01    319.980011    320.589996   308.010010     320.269989   \n",
       "..         ...           ...           ...          ...            ...   \n",
       "858 2022-05-27    193.190002    195.250000   190.369995     195.190002   \n",
       "859 2022-05-31    196.179993    199.949997   190.800003     197.440002   \n",
       "860 2022-01-06    198.699997    202.740005   191.660004     192.910004   \n",
       "861 2022-02-06    192.020004    205.470001   191.720001     205.089996   \n",
       "862 2022-03-06    200.139999    202.949997   198.050003     198.979996   \n",
       "\n",
       "     Adj Close Netflix  Volume Netflix  \n",
       "0           267.660004        11679500  \n",
       "1           271.200012        14969600  \n",
       "2           297.570007        19330100  \n",
       "3           315.339996        18620100  \n",
       "4           320.269989        15359200  \n",
       "..                 ...             ...  \n",
       "858         195.190002         8586000  \n",
       "859         197.440002        11398500  \n",
       "860         192.910004         8416200  \n",
       "861         205.089996         9623100  \n",
       "862         198.979996         7181700  \n",
       "\n",
       "[863 rows x 7 columns]"
      ]
     },
     "execution_count": 6,
     "metadata": {},
     "output_type": "execute_result"
    }
   ],
   "source": [
    "# Index (Date) is now set as a Datetime datatype in the NFLX file\n",
    "NFLX['Date'] = pd.to_datetime(NFLX['Date'])\n",
    "NFLX\n"
   ]
  },
  {
   "cell_type": "code",
   "execution_count": 7,
   "id": "ff0e2064",
   "metadata": {},
   "outputs": [
    {
     "data": {
      "text/plain": [
       "Date                 0\n",
       "Open Netflix         0\n",
       "High Netflix         0\n",
       "Low Netflix          0\n",
       "Close Netflix        0\n",
       "Adj Close Netflix    0\n",
       "Volume Netflix       0\n",
       "dtype: int64"
      ]
     },
     "execution_count": 7,
     "metadata": {},
     "output_type": "execute_result"
    }
   ],
   "source": [
    "# Checking if there are any null values in the dataset \n",
    "NFLX.isnull().sum()"
   ]
  },
  {
   "cell_type": "code",
   "execution_count": 8,
   "id": "d96cd431",
   "metadata": {},
   "outputs": [],
   "source": [
    "# Removing Duplicates \n",
    "NFLX.drop_duplicates(keep=False,inplace=True)"
   ]
  },
  {
   "cell_type": "code",
   "execution_count": 9,
   "id": "9b1ba537",
   "metadata": {},
   "outputs": [],
   "source": [
    "# The below command will replace all null values with future day`s value to avoid any gaps\n",
    "NFLX.fillna(method='ffill', inplace=True)"
   ]
  },
  {
   "cell_type": "code",
   "execution_count": 10,
   "id": "0758503d",
   "metadata": {},
   "outputs": [
    {
     "data": {
      "text/plain": [
       "Date                 0\n",
       "Open Netflix         0\n",
       "High Netflix         0\n",
       "Low Netflix          0\n",
       "Close Netflix        0\n",
       "Adj Close Netflix    0\n",
       "Volume Netflix       0\n",
       "dtype: int64"
      ]
     },
     "execution_count": 10,
     "metadata": {},
     "output_type": "execute_result"
    }
   ],
   "source": [
    "NFLX.isnull().sum()"
   ]
  },
  {
   "cell_type": "code",
   "execution_count": 11,
   "id": "0b6061da",
   "metadata": {},
   "outputs": [
    {
     "data": {
      "text/html": [
       "<div>\n",
       "<style scoped>\n",
       "    .dataframe tbody tr th:only-of-type {\n",
       "        vertical-align: middle;\n",
       "    }\n",
       "\n",
       "    .dataframe tbody tr th {\n",
       "        vertical-align: top;\n",
       "    }\n",
       "\n",
       "    .dataframe thead th {\n",
       "        text-align: right;\n",
       "    }\n",
       "</style>\n",
       "<table border=\"1\" class=\"dataframe\">\n",
       "  <thead>\n",
       "    <tr style=\"text-align: right;\">\n",
       "      <th></th>\n",
       "      <th>Date</th>\n",
       "      <th>Open Netflix</th>\n",
       "      <th>High Netflix</th>\n",
       "      <th>Low Netflix</th>\n",
       "      <th>Close Netflix</th>\n",
       "      <th>Adj Close Netflix</th>\n",
       "      <th>Volume Netflix</th>\n",
       "    </tr>\n",
       "  </thead>\n",
       "  <tbody>\n",
       "    <tr>\n",
       "      <th>0</th>\n",
       "      <td>2019-02-01</td>\n",
       "      <td>259.279999</td>\n",
       "      <td>269.750000</td>\n",
       "      <td>256.579987</td>\n",
       "      <td>267.660004</td>\n",
       "      <td>267.660004</td>\n",
       "      <td>11679500</td>\n",
       "    </tr>\n",
       "    <tr>\n",
       "      <th>1</th>\n",
       "      <td>2019-03-01</td>\n",
       "      <td>270.200012</td>\n",
       "      <td>275.790009</td>\n",
       "      <td>264.429993</td>\n",
       "      <td>271.200012</td>\n",
       "      <td>271.200012</td>\n",
       "      <td>14969600</td>\n",
       "    </tr>\n",
       "    <tr>\n",
       "      <th>2</th>\n",
       "      <td>2019-04-01</td>\n",
       "      <td>281.880005</td>\n",
       "      <td>297.799988</td>\n",
       "      <td>278.540009</td>\n",
       "      <td>297.570007</td>\n",
       "      <td>297.570007</td>\n",
       "      <td>19330100</td>\n",
       "    </tr>\n",
       "    <tr>\n",
       "      <th>3</th>\n",
       "      <td>2019-07-01</td>\n",
       "      <td>302.100006</td>\n",
       "      <td>316.799988</td>\n",
       "      <td>301.649994</td>\n",
       "      <td>315.339996</td>\n",
       "      <td>315.339996</td>\n",
       "      <td>18620100</td>\n",
       "    </tr>\n",
       "    <tr>\n",
       "      <th>4</th>\n",
       "      <td>2019-08-01</td>\n",
       "      <td>319.980011</td>\n",
       "      <td>320.589996</td>\n",
       "      <td>308.010010</td>\n",
       "      <td>320.269989</td>\n",
       "      <td>320.269989</td>\n",
       "      <td>15359200</td>\n",
       "    </tr>\n",
       "  </tbody>\n",
       "</table>\n",
       "</div>"
      ],
      "text/plain": [
       "        Date  Open Netflix  High Netflix  Low Netflix  Close Netflix  \\\n",
       "0 2019-02-01    259.279999    269.750000   256.579987     267.660004   \n",
       "1 2019-03-01    270.200012    275.790009   264.429993     271.200012   \n",
       "2 2019-04-01    281.880005    297.799988   278.540009     297.570007   \n",
       "3 2019-07-01    302.100006    316.799988   301.649994     315.339996   \n",
       "4 2019-08-01    319.980011    320.589996   308.010010     320.269989   \n",
       "\n",
       "   Adj Close Netflix  Volume Netflix  \n",
       "0         267.660004        11679500  \n",
       "1         271.200012        14969600  \n",
       "2         297.570007        19330100  \n",
       "3         315.339996        18620100  \n",
       "4         320.269989        15359200  "
      ]
     },
     "execution_count": 11,
     "metadata": {},
     "output_type": "execute_result"
    }
   ],
   "source": [
    "# Reading the dataset after the above command\n",
    "NFLX.head()"
   ]
  },
  {
   "cell_type": "code",
   "execution_count": 12,
   "id": "e17c5832",
   "metadata": {},
   "outputs": [
    {
     "data": {
      "text/html": [
       "<div>\n",
       "<style scoped>\n",
       "    .dataframe tbody tr th:only-of-type {\n",
       "        vertical-align: middle;\n",
       "    }\n",
       "\n",
       "    .dataframe tbody tr th {\n",
       "        vertical-align: top;\n",
       "    }\n",
       "\n",
       "    .dataframe thead th {\n",
       "        text-align: right;\n",
       "    }\n",
       "</style>\n",
       "<table border=\"1\" class=\"dataframe\">\n",
       "  <thead>\n",
       "    <tr style=\"text-align: right;\">\n",
       "      <th></th>\n",
       "      <th>Date</th>\n",
       "      <th>Open Disney</th>\n",
       "      <th>High Disney</th>\n",
       "      <th>Low Disney</th>\n",
       "      <th>Close-DSNY</th>\n",
       "      <th>Adj Close Disney</th>\n",
       "      <th>Volume Disney</th>\n",
       "    </tr>\n",
       "  </thead>\n",
       "  <tbody>\n",
       "    <tr>\n",
       "      <th>0</th>\n",
       "      <td>2019-02-01</td>\n",
       "      <td>108.099998</td>\n",
       "      <td>109.139999</td>\n",
       "      <td>107.730003</td>\n",
       "      <td>108.970001</td>\n",
       "      <td>107.654343</td>\n",
       "      <td>9723500</td>\n",
       "    </tr>\n",
       "    <tr>\n",
       "      <th>1</th>\n",
       "      <td>2019-03-01</td>\n",
       "      <td>108.480003</td>\n",
       "      <td>108.650002</td>\n",
       "      <td>105.940002</td>\n",
       "      <td>106.330002</td>\n",
       "      <td>105.046211</td>\n",
       "      <td>10594700</td>\n",
       "    </tr>\n",
       "    <tr>\n",
       "      <th>2</th>\n",
       "      <td>2019-04-01</td>\n",
       "      <td>107.940002</td>\n",
       "      <td>110.750000</td>\n",
       "      <td>107.250000</td>\n",
       "      <td>109.610001</td>\n",
       "      <td>108.286606</td>\n",
       "      <td>10122800</td>\n",
       "    </tr>\n",
       "    <tr>\n",
       "      <th>3</th>\n",
       "      <td>2019-07-01</td>\n",
       "      <td>109.910004</td>\n",
       "      <td>111.400002</td>\n",
       "      <td>109.300003</td>\n",
       "      <td>110.559998</td>\n",
       "      <td>109.225136</td>\n",
       "      <td>6714700</td>\n",
       "    </tr>\n",
       "    <tr>\n",
       "      <th>4</th>\n",
       "      <td>2019-08-01</td>\n",
       "      <td>111.800003</td>\n",
       "      <td>112.559998</td>\n",
       "      <td>111.169998</td>\n",
       "      <td>111.419998</td>\n",
       "      <td>110.074753</td>\n",
       "      <td>8730700</td>\n",
       "    </tr>\n",
       "  </tbody>\n",
       "</table>\n",
       "</div>"
      ],
      "text/plain": [
       "        Date  Open Disney  High Disney  Low Disney  Close-DSNY  \\\n",
       "0 2019-02-01   108.099998   109.139999  107.730003  108.970001   \n",
       "1 2019-03-01   108.480003   108.650002  105.940002  106.330002   \n",
       "2 2019-04-01   107.940002   110.750000  107.250000  109.610001   \n",
       "3 2019-07-01   109.910004   111.400002  109.300003  110.559998   \n",
       "4 2019-08-01   111.800003   112.559998  111.169998  111.419998   \n",
       "\n",
       "   Adj Close Disney  Volume Disney  \n",
       "0        107.654343        9723500  \n",
       "1        105.046211       10594700  \n",
       "2        108.286606       10122800  \n",
       "3        109.225136        6714700  \n",
       "4        110.074753        8730700  "
      ]
     },
     "execution_count": 12,
     "metadata": {},
     "output_type": "execute_result"
    }
   ],
   "source": [
    "#Import the data for Disney - stock 2\n",
    "DSNY = pd.read_csv('C:/Users/shahsh/Disney.csv')\n",
    "# As above, renaming the close price column to ensure further analysis is easier.\n",
    "DSNY.rename(columns={'Close Disney': 'Close-DSNY', }, inplace=True)\n",
    "DSNY['Date'] = pd.to_datetime(DSNY['Date'])\n",
    "DSNY.head()"
   ]
  },
  {
   "cell_type": "code",
   "execution_count": 14,
   "id": "51f53521",
   "metadata": {},
   "outputs": [],
   "source": [
    "# The below will ensure correct timeline for plotting\n",
    "DSNY.set_index('Date',inplace=True)\n",
    "NFLX.set_index('Date',inplace=True)"
   ]
  },
  {
   "cell_type": "code",
   "execution_count": 15,
   "id": "b5d9513d",
   "metadata": {},
   "outputs": [
    {
     "data": {
      "text/plain": [
       "<AxesSubplot:xlabel='Date'>"
      ]
     },
     "execution_count": 15,
     "metadata": {},
     "output_type": "execute_result"
    },
    {
     "data": {
      "image/png": "[encoded data removed]",
      "text/plain": [
       "<Figure size 864x360 with 1 Axes>"
      ]
     },
     "metadata": {
      "needs_background": "light"
     },
     "output_type": "display_data"
    }
   ],
   "source": [
    "# Plotting both the stocks Volume for 3 years\n",
    "NFLX['Volume Netflix'].plot(legend=True,figsize=(12,5),xlabel='Date')\n",
    "DSNY['Volume Disney'].plot(legend=True,figsize=(12,5),xlabel='Date')"
   ]
  },
  {
   "cell_type": "code",
   "execution_count": 85,
   "id": "312dd26e",
   "metadata": {},
   "outputs": [
    {
     "data": {
      "text/plain": [
       "Date                0\n",
       "Open Disney         0\n",
       "High Disney         0\n",
       "Low Disney          0\n",
       "Close-DSNY          0\n",
       "Adj Close Disney    0\n",
       "Volume Disney       0\n",
       "dtype: int64"
      ]
     },
     "execution_count": 85,
     "metadata": {},
     "output_type": "execute_result"
    }
   ],
   "source": [
    "DSNY.isnull().sum()"
   ]
  },
  {
   "cell_type": "code",
   "execution_count": 86,
   "id": "9d95a675",
   "metadata": {},
   "outputs": [
    {
     "data": {
      "text/plain": [
       "Date                0\n",
       "Open Disney         0\n",
       "High Disney         0\n",
       "Low Disney          0\n",
       "Close-DSNY          0\n",
       "Adj Close Disney    0\n",
       "Volume Disney       0\n",
       "dtype: int64"
      ]
     },
     "execution_count": 86,
     "metadata": {},
     "output_type": "execute_result"
    }
   ],
   "source": [
    "# Replacing Null values with nearest value after it\n",
    "DSNY.fillna(method='ffill', inplace=True)\n",
    "DSNY.isnull().sum()"
   ]
  },
  {
   "cell_type": "code",
   "execution_count": 87,
   "id": "2c19cff1",
   "metadata": {},
   "outputs": [
    {
     "data": {
      "text/html": [
       "<div>\n",
       "<style scoped>\n",
       "    .dataframe tbody tr th:only-of-type {\n",
       "        vertical-align: middle;\n",
       "    }\n",
       "\n",
       "    .dataframe tbody tr th {\n",
       "        vertical-align: top;\n",
       "    }\n",
       "\n",
       "    .dataframe thead th {\n",
       "        text-align: right;\n",
       "    }\n",
       "</style>\n",
       "<table border=\"1\" class=\"dataframe\">\n",
       "  <thead>\n",
       "    <tr style=\"text-align: right;\">\n",
       "      <th></th>\n",
       "      <th>Date</th>\n",
       "      <th>Open Disney</th>\n",
       "      <th>High Disney</th>\n",
       "      <th>Low Disney</th>\n",
       "      <th>Close-DSNY</th>\n",
       "      <th>Adj Close Disney</th>\n",
       "      <th>Volume Disney</th>\n",
       "    </tr>\n",
       "  </thead>\n",
       "  <tbody>\n",
       "    <tr>\n",
       "      <th>0</th>\n",
       "      <td>2019-02-01</td>\n",
       "      <td>108.099998</td>\n",
       "      <td>109.139999</td>\n",
       "      <td>107.730003</td>\n",
       "      <td>108.970001</td>\n",
       "      <td>107.654343</td>\n",
       "      <td>9723500</td>\n",
       "    </tr>\n",
       "    <tr>\n",
       "      <th>1</th>\n",
       "      <td>2019-03-01</td>\n",
       "      <td>108.480003</td>\n",
       "      <td>108.650002</td>\n",
       "      <td>105.940002</td>\n",
       "      <td>106.330002</td>\n",
       "      <td>105.046211</td>\n",
       "      <td>10594700</td>\n",
       "    </tr>\n",
       "    <tr>\n",
       "      <th>2</th>\n",
       "      <td>2019-04-01</td>\n",
       "      <td>107.940002</td>\n",
       "      <td>110.750000</td>\n",
       "      <td>107.250000</td>\n",
       "      <td>109.610001</td>\n",
       "      <td>108.286606</td>\n",
       "      <td>10122800</td>\n",
       "    </tr>\n",
       "    <tr>\n",
       "      <th>3</th>\n",
       "      <td>2019-07-01</td>\n",
       "      <td>109.910004</td>\n",
       "      <td>111.400002</td>\n",
       "      <td>109.300003</td>\n",
       "      <td>110.559998</td>\n",
       "      <td>109.225136</td>\n",
       "      <td>6714700</td>\n",
       "    </tr>\n",
       "    <tr>\n",
       "      <th>4</th>\n",
       "      <td>2019-08-01</td>\n",
       "      <td>111.800003</td>\n",
       "      <td>112.559998</td>\n",
       "      <td>111.169998</td>\n",
       "      <td>111.419998</td>\n",
       "      <td>110.074753</td>\n",
       "      <td>8730700</td>\n",
       "    </tr>\n",
       "  </tbody>\n",
       "</table>\n",
       "</div>"
      ],
      "text/plain": [
       "        Date  Open Disney  High Disney  Low Disney  Close-DSNY  \\\n",
       "0 2019-02-01   108.099998   109.139999  107.730003  108.970001   \n",
       "1 2019-03-01   108.480003   108.650002  105.940002  106.330002   \n",
       "2 2019-04-01   107.940002   110.750000  107.250000  109.610001   \n",
       "3 2019-07-01   109.910004   111.400002  109.300003  110.559998   \n",
       "4 2019-08-01   111.800003   112.559998  111.169998  111.419998   \n",
       "\n",
       "   Adj Close Disney  Volume Disney  \n",
       "0        107.654343        9723500  \n",
       "1        105.046211       10594700  \n",
       "2        108.286606       10122800  \n",
       "3        109.225136        6714700  \n",
       "4        110.074753        8730700  "
      ]
     },
     "execution_count": 87,
     "metadata": {},
     "output_type": "execute_result"
    }
   ],
   "source": [
    "# The below will change the CP to float for plotting\n",
    "DSNY['Close-DSNY'] = DSNY['Close-DSNY'].astype('float')\n",
    "DSNY['Close-DSNY'].fillna(method='ffill', inplace=True)\n",
    "DSNY.head()"
   ]
  },
  {
   "cell_type": "code",
   "execution_count": 88,
   "id": "e18b6ee7",
   "metadata": {},
   "outputs": [
    {
     "data": {
      "text/plain": [
       "Date                0\n",
       "Open Disney         0\n",
       "High Disney         0\n",
       "Low Disney          0\n",
       "Close-DSNY          0\n",
       "Adj Close Disney    0\n",
       "Volume Disney       0\n",
       "dtype: int64"
      ]
     },
     "execution_count": 88,
     "metadata": {},
     "output_type": "execute_result"
    }
   ],
   "source": [
    "# Double check if there are any gaps in values\n",
    "DSNY.isnull().sum()"
   ]
  },
  {
   "cell_type": "code",
   "execution_count": 89,
   "id": "3159e0dc",
   "metadata": {},
   "outputs": [
    {
     "data": {
      "text/plain": [
       "Date                datetime64[ns]\n",
       "Open Disney                float64\n",
       "High Disney                float64\n",
       "Low Disney                 float64\n",
       "Close-DSNY                 float64\n",
       "Adj Close Disney           float64\n",
       "Volume Disney                int64\n",
       "dtype: object"
      ]
     },
     "execution_count": 89,
     "metadata": {},
     "output_type": "execute_result"
    }
   ],
   "source": [
    "# Check the data types and update as required\n",
    "DSNY.dtypes"
   ]
  },
  {
   "cell_type": "code",
   "execution_count": 90,
   "id": "4eaad999",
   "metadata": {},
   "outputs": [],
   "source": [
    "#Change the closing price to float for graphs\n",
    "DSNY.set_index('Date')\n",
    "DSNY['Close-DSNY'] = DSNY['Close-DSNY'].astype('float')"
   ]
  },
  {
   "cell_type": "code",
   "execution_count": 91,
   "id": "d8538eb7",
   "metadata": {},
   "outputs": [
    {
     "data": {
      "text/html": [
       "<div>\n",
       "<style scoped>\n",
       "    .dataframe tbody tr th:only-of-type {\n",
       "        vertical-align: middle;\n",
       "    }\n",
       "\n",
       "    .dataframe tbody tr th {\n",
       "        vertical-align: top;\n",
       "    }\n",
       "\n",
       "    .dataframe thead th {\n",
       "        text-align: right;\n",
       "    }\n",
       "</style>\n",
       "<table border=\"1\" class=\"dataframe\">\n",
       "  <thead>\n",
       "    <tr style=\"text-align: right;\">\n",
       "      <th></th>\n",
       "      <th>Date</th>\n",
       "      <th>Close Netflix</th>\n",
       "      <th>Close-DSNY</th>\n",
       "    </tr>\n",
       "  </thead>\n",
       "  <tbody>\n",
       "    <tr>\n",
       "      <th>0</th>\n",
       "      <td>2019-02-01</td>\n",
       "      <td>267.660004</td>\n",
       "      <td>108.970001</td>\n",
       "    </tr>\n",
       "    <tr>\n",
       "      <th>1</th>\n",
       "      <td>2019-03-01</td>\n",
       "      <td>271.200012</td>\n",
       "      <td>106.330002</td>\n",
       "    </tr>\n",
       "    <tr>\n",
       "      <th>2</th>\n",
       "      <td>2019-04-01</td>\n",
       "      <td>297.570007</td>\n",
       "      <td>109.610001</td>\n",
       "    </tr>\n",
       "    <tr>\n",
       "      <th>3</th>\n",
       "      <td>2019-07-01</td>\n",
       "      <td>315.339996</td>\n",
       "      <td>110.559998</td>\n",
       "    </tr>\n",
       "    <tr>\n",
       "      <th>4</th>\n",
       "      <td>2019-08-01</td>\n",
       "      <td>320.269989</td>\n",
       "      <td>111.419998</td>\n",
       "    </tr>\n",
       "    <tr>\n",
       "      <th>...</th>\n",
       "      <td>...</td>\n",
       "      <td>...</td>\n",
       "      <td>...</td>\n",
       "    </tr>\n",
       "    <tr>\n",
       "      <th>858</th>\n",
       "      <td>2022-05-27</td>\n",
       "      <td>195.190002</td>\n",
       "      <td>109.320000</td>\n",
       "    </tr>\n",
       "    <tr>\n",
       "      <th>859</th>\n",
       "      <td>2022-05-31</td>\n",
       "      <td>197.440002</td>\n",
       "      <td>110.440002</td>\n",
       "    </tr>\n",
       "    <tr>\n",
       "      <th>860</th>\n",
       "      <td>2022-01-06</td>\n",
       "      <td>192.910004</td>\n",
       "      <td>109.190002</td>\n",
       "    </tr>\n",
       "    <tr>\n",
       "      <th>861</th>\n",
       "      <td>2022-02-06</td>\n",
       "      <td>205.089996</td>\n",
       "      <td>110.870003</td>\n",
       "    </tr>\n",
       "    <tr>\n",
       "      <th>862</th>\n",
       "      <td>2022-03-06</td>\n",
       "      <td>198.979996</td>\n",
       "      <td>108.669998</td>\n",
       "    </tr>\n",
       "  </tbody>\n",
       "</table>\n",
       "<p>863 rows × 3 columns</p>\n",
       "</div>"
      ],
      "text/plain": [
       "          Date  Close Netflix  Close-DSNY\n",
       "0   2019-02-01     267.660004  108.970001\n",
       "1   2019-03-01     271.200012  106.330002\n",
       "2   2019-04-01     297.570007  109.610001\n",
       "3   2019-07-01     315.339996  110.559998\n",
       "4   2019-08-01     320.269989  111.419998\n",
       "..         ...            ...         ...\n",
       "858 2022-05-27     195.190002  109.320000\n",
       "859 2022-05-31     197.440002  110.440002\n",
       "860 2022-01-06     192.910004  109.190002\n",
       "861 2022-02-06     205.089996  110.870003\n",
       "862 2022-03-06     198.979996  108.669998\n",
       "\n",
       "[863 rows x 3 columns]"
      ]
     },
     "execution_count": 91,
     "metadata": {},
     "output_type": "execute_result"
    }
   ],
   "source": [
    "NFLX.drop(labels=[\"Open Netflix\",\"High Netflix\",\"Low Netflix\",\"Adj Close Netflix\",\"Volume Netflix\"],axis=1,inplace=True)\n",
    "DSNY.drop(labels=[\"Open Disney\",\"High Disney\",\"Low Disney\",\"Adj Close Disney\",\"Volume Disney\"],axis=1,inplace=True)\n",
    "# Merging Datasets to plot only Closing price for both Stocks\n",
    "df_merged = NFLX.merge(DSNY,how='left', left_on='Date', right_on='Date')\n",
    "df_merged"
   ]
  },
  {
   "cell_type": "code",
   "execution_count": 92,
   "id": "61423bf3",
   "metadata": {},
   "outputs": [
    {
     "data": {
      "text/plain": [
       "Date             datetime64[ns]\n",
       "Close Netflix           float64\n",
       "Close-DSNY              float64\n",
       "dtype: object"
      ]
     },
     "execution_count": 92,
     "metadata": {},
     "output_type": "execute_result"
    }
   ],
   "source": [
    "# Double check there are no null values are present\n",
    "df_merged.dtypes\n"
   ]
  },
  {
   "cell_type": "code",
   "execution_count": 93,
   "id": "318461df",
   "metadata": {},
   "outputs": [
    {
     "data": {
      "text/plain": [
       "Date             0\n",
       "Close Netflix    0\n",
       "Close-DSNY       0\n",
       "dtype: int64"
      ]
     },
     "execution_count": 93,
     "metadata": {},
     "output_type": "execute_result"
    }
   ],
   "source": [
    "# Double check there are no null values are present\n",
    "df_merged.isnull().sum()"
   ]
  },
  {
   "cell_type": "code",
   "execution_count": 94,
   "id": "d429a29b",
   "metadata": {},
   "outputs": [],
   "source": [
    "#Creatng a dataset naming convention\n",
    "df=df_merged\n",
    "df_merged.dropna(how='all',inplace=True)"
   ]
  },
  {
   "cell_type": "code",
   "execution_count": 95,
   "id": "7d8e92ce",
   "metadata": {},
   "outputs": [
    {
     "data": {
      "text/html": [
       "<div>\n",
       "<style scoped>\n",
       "    .dataframe tbody tr th:only-of-type {\n",
       "        vertical-align: middle;\n",
       "    }\n",
       "\n",
       "    .dataframe tbody tr th {\n",
       "        vertical-align: top;\n",
       "    }\n",
       "\n",
       "    .dataframe thead th {\n",
       "        text-align: right;\n",
       "    }\n",
       "</style>\n",
       "<table border=\"1\" class=\"dataframe\">\n",
       "  <thead>\n",
       "    <tr style=\"text-align: right;\">\n",
       "      <th></th>\n",
       "      <th>Close Netflix</th>\n",
       "      <th>Close-DSNY</th>\n",
       "    </tr>\n",
       "    <tr>\n",
       "      <th>Date</th>\n",
       "      <th></th>\n",
       "      <th></th>\n",
       "    </tr>\n",
       "  </thead>\n",
       "  <tbody>\n",
       "    <tr>\n",
       "      <th>2019-02-01</th>\n",
       "      <td>267.660004</td>\n",
       "      <td>108.970001</td>\n",
       "    </tr>\n",
       "    <tr>\n",
       "      <th>2019-03-01</th>\n",
       "      <td>271.200012</td>\n",
       "      <td>106.330002</td>\n",
       "    </tr>\n",
       "    <tr>\n",
       "      <th>2019-04-01</th>\n",
       "      <td>297.570007</td>\n",
       "      <td>109.610001</td>\n",
       "    </tr>\n",
       "    <tr>\n",
       "      <th>2019-07-01</th>\n",
       "      <td>315.339996</td>\n",
       "      <td>110.559998</td>\n",
       "    </tr>\n",
       "    <tr>\n",
       "      <th>2019-08-01</th>\n",
       "      <td>320.269989</td>\n",
       "      <td>111.419998</td>\n",
       "    </tr>\n",
       "    <tr>\n",
       "      <th>...</th>\n",
       "      <td>...</td>\n",
       "      <td>...</td>\n",
       "    </tr>\n",
       "    <tr>\n",
       "      <th>2022-05-27</th>\n",
       "      <td>195.190002</td>\n",
       "      <td>109.320000</td>\n",
       "    </tr>\n",
       "    <tr>\n",
       "      <th>2022-05-31</th>\n",
       "      <td>197.440002</td>\n",
       "      <td>110.440002</td>\n",
       "    </tr>\n",
       "    <tr>\n",
       "      <th>2022-01-06</th>\n",
       "      <td>192.910004</td>\n",
       "      <td>109.190002</td>\n",
       "    </tr>\n",
       "    <tr>\n",
       "      <th>2022-02-06</th>\n",
       "      <td>205.089996</td>\n",
       "      <td>110.870003</td>\n",
       "    </tr>\n",
       "    <tr>\n",
       "      <th>2022-03-06</th>\n",
       "      <td>198.979996</td>\n",
       "      <td>108.669998</td>\n",
       "    </tr>\n",
       "  </tbody>\n",
       "</table>\n",
       "<p>863 rows × 2 columns</p>\n",
       "</div>"
      ],
      "text/plain": [
       "            Close Netflix  Close-DSNY\n",
       "Date                                 \n",
       "2019-02-01     267.660004  108.970001\n",
       "2019-03-01     271.200012  106.330002\n",
       "2019-04-01     297.570007  109.610001\n",
       "2019-07-01     315.339996  110.559998\n",
       "2019-08-01     320.269989  111.419998\n",
       "...                   ...         ...\n",
       "2022-05-27     195.190002  109.320000\n",
       "2022-05-31     197.440002  110.440002\n",
       "2022-01-06     192.910004  109.190002\n",
       "2022-02-06     205.089996  110.870003\n",
       "2022-03-06     198.979996  108.669998\n",
       "\n",
       "[863 rows x 2 columns]"
      ]
     },
     "execution_count": 95,
     "metadata": {},
     "output_type": "execute_result"
    }
   ],
   "source": [
    "#Set index to date on the Dataset\n",
    "df.set_index('Date')"
   ]
  },
  {
   "cell_type": "code",
   "execution_count": 108,
   "id": "c387d3fc",
   "metadata": {},
   "outputs": [
    {
     "data": {
      "text/plain": [
       "<AxesSubplot:xlabel='Date'>"
      ]
     },
     "execution_count": 108,
     "metadata": {},
     "output_type": "execute_result"
    },
    {
     "data": {
      "image/png": "[encoded data removed]",
      "text/plain": [
       "<Figure size 864x360 with 1 Axes>"
      ]
     },
     "metadata": {
      "needs_background": "light"
     },
     "output_type": "display_data"
    }
   ],
   "source": [
    "#Plotting the closing price for both Stocks\n",
    "NFLX['Close Netflix'].plot(legend=True,figsize=(12,5),xlabel='Date')\n",
    "DSNY['Close-DSNY'].plot(legend=True,figsize=(12,5),xlabel='Date')"
   ]
  },
  {
   "cell_type": "code",
   "execution_count": 96,
   "id": "c457d3f9",
   "metadata": {},
   "outputs": [
    {
     "data": {
      "text/plain": [
       "Date             datetime64[ns]\n",
       "Close Netflix           float64\n",
       "Close-DSNY              float64\n",
       "dtype: object"
      ]
     },
     "execution_count": 96,
     "metadata": {},
     "output_type": "execute_result"
    }
   ],
   "source": [
    "df\n",
    "df.dtypes"
   ]
  },
  {
   "cell_type": "code",
   "execution_count": 69,
   "id": "73a7a51f",
   "metadata": {},
   "outputs": [],
   "source": [
    "# Creating a new column with adjusted (reduced) close price so that the data for both stocks is comparable\n",
    "NFLX['ADJ Close Netflix 2'] = NFLX['Adj Close Netflix'] *0.5"
   ]
  },
  {
   "cell_type": "code",
   "execution_count": 70,
   "id": "0ada1c64",
   "metadata": {},
   "outputs": [
    {
     "data": {
      "text/html": [
       "<div>\n",
       "<style scoped>\n",
       "    .dataframe tbody tr th:only-of-type {\n",
       "        vertical-align: middle;\n",
       "    }\n",
       "\n",
       "    .dataframe tbody tr th {\n",
       "        vertical-align: top;\n",
       "    }\n",
       "\n",
       "    .dataframe thead th {\n",
       "        text-align: right;\n",
       "    }\n",
       "</style>\n",
       "<table border=\"1\" class=\"dataframe\">\n",
       "  <thead>\n",
       "    <tr style=\"text-align: right;\">\n",
       "      <th></th>\n",
       "      <th>Date</th>\n",
       "      <th>Open Netflix</th>\n",
       "      <th>High Netflix</th>\n",
       "      <th>Low Netflix</th>\n",
       "      <th>Close Netflix</th>\n",
       "      <th>Adj Close Netflix</th>\n",
       "      <th>Volume Netflix</th>\n",
       "      <th>ADJ Close Netflix 2</th>\n",
       "    </tr>\n",
       "  </thead>\n",
       "  <tbody>\n",
       "    <tr>\n",
       "      <th>0</th>\n",
       "      <td>2019-02-01</td>\n",
       "      <td>259.279999</td>\n",
       "      <td>269.750000</td>\n",
       "      <td>256.579987</td>\n",
       "      <td>267.660004</td>\n",
       "      <td>267.660004</td>\n",
       "      <td>11679500</td>\n",
       "      <td>133.830002</td>\n",
       "    </tr>\n",
       "    <tr>\n",
       "      <th>1</th>\n",
       "      <td>2019-03-01</td>\n",
       "      <td>270.200012</td>\n",
       "      <td>275.790009</td>\n",
       "      <td>264.429993</td>\n",
       "      <td>271.200012</td>\n",
       "      <td>271.200012</td>\n",
       "      <td>14969600</td>\n",
       "      <td>135.600006</td>\n",
       "    </tr>\n",
       "    <tr>\n",
       "      <th>2</th>\n",
       "      <td>2019-04-01</td>\n",
       "      <td>281.880005</td>\n",
       "      <td>297.799988</td>\n",
       "      <td>278.540009</td>\n",
       "      <td>297.570007</td>\n",
       "      <td>297.570007</td>\n",
       "      <td>19330100</td>\n",
       "      <td>148.785003</td>\n",
       "    </tr>\n",
       "    <tr>\n",
       "      <th>3</th>\n",
       "      <td>2019-07-01</td>\n",
       "      <td>302.100006</td>\n",
       "      <td>316.799988</td>\n",
       "      <td>301.649994</td>\n",
       "      <td>315.339996</td>\n",
       "      <td>315.339996</td>\n",
       "      <td>18620100</td>\n",
       "      <td>157.669998</td>\n",
       "    </tr>\n",
       "    <tr>\n",
       "      <th>4</th>\n",
       "      <td>2019-08-01</td>\n",
       "      <td>319.980011</td>\n",
       "      <td>320.589996</td>\n",
       "      <td>308.010010</td>\n",
       "      <td>320.269989</td>\n",
       "      <td>320.269989</td>\n",
       "      <td>15359200</td>\n",
       "      <td>160.134995</td>\n",
       "    </tr>\n",
       "  </tbody>\n",
       "</table>\n",
       "</div>"
      ],
      "text/plain": [
       "        Date  Open Netflix  High Netflix  Low Netflix  Close Netflix  \\\n",
       "0 2019-02-01    259.279999    269.750000   256.579987     267.660004   \n",
       "1 2019-03-01    270.200012    275.790009   264.429993     271.200012   \n",
       "2 2019-04-01    281.880005    297.799988   278.540009     297.570007   \n",
       "3 2019-07-01    302.100006    316.799988   301.649994     315.339996   \n",
       "4 2019-08-01    319.980011    320.589996   308.010010     320.269989   \n",
       "\n",
       "   Adj Close Netflix  Volume Netflix  ADJ Close Netflix 2  \n",
       "0         267.660004        11679500           133.830002  \n",
       "1         271.200012        14969600           135.600006  \n",
       "2         297.570007        19330100           148.785003  \n",
       "3         315.339996        18620100           157.669998  \n",
       "4         320.269989        15359200           160.134995  "
      ]
     },
     "execution_count": 70,
     "metadata": {},
     "output_type": "execute_result"
    }
   ],
   "source": [
    "NFLX.head()"
   ]
  },
  {
   "cell_type": "code",
   "execution_count": 71,
   "id": "8a121fa1",
   "metadata": {},
   "outputs": [],
   "source": [
    "DSNY.set_index('Date',inplace=True)\n",
    "NFLX.set_index('Date',inplace=True)\n"
   ]
  },
  {
   "cell_type": "code",
   "execution_count": 72,
   "id": "1db8a4c3",
   "metadata": {},
   "outputs": [
    {
     "data": {
      "text/plain": [
       "<AxesSubplot:xlabel='Date'>"
      ]
     },
     "execution_count": 72,
     "metadata": {},
     "output_type": "execute_result"
    },
    {
     "data": {
      "image/png": "[encoded data removed]",
      "text/plain": [
       "<Figure size 864x360 with 1 Axes>"
      ]
     },
     "metadata": {
      "needs_background": "light"
     },
     "output_type": "display_data"
    }
   ],
   "source": [
    "# Plotting ADJ Close price for both Stocks\n",
    "DSNY['Adj Close Disney'].plot(legend=True,figsize=(12,5),xlabel='Date')\n",
    "NFLX['ADJ Close Netflix 2'].plot(legend=True,figsize=(12,5),xlabel='Date')"
   ]
  },
  {
   "cell_type": "code",
   "execution_count": 103,
   "id": "d6e1d052",
   "metadata": {},
   "outputs": [],
   "source": [
    "mod_df = df.dropna( axis=0, \n",
    "                    how='any')"
   ]
  },
  {
   "cell_type": "code",
   "execution_count": 111,
   "id": "2ea814e1",
   "metadata": {},
   "outputs": [
    {
     "data": {
      "text/plain": [
       "Text(0.5, 1.0, 'Analaysis: Relationship between Netflix and Disney Share price')"
      ]
     },
     "execution_count": 111,
     "metadata": {},
     "output_type": "execute_result"
    },
    {
     "data": {
      "image/png": "[encoded data removed]",
      "text/plain": [
       "<Figure size 360x360 with 1 Axes>"
      ]
     },
     "metadata": {
      "needs_background": "light"
     },
     "output_type": "display_data"
    }
   ],
   "source": [
    "# Relationship between Netflix and Disney Closing price.\n",
    "sns.lmplot(x='Close Netflix',y='Close-DSNY',data=mod_df)\n",
    "plt.xlabel('Close Netflix')\n",
    "plt.ylabel('Close-DSNY')\n",
    "plt.title('Analaysis: Relationship between Netflix and Disney Share price')"
   ]
  },
  {
   "cell_type": "code",
   "execution_count": 112,
   "id": "a53583ba",
   "metadata": {},
   "outputs": [
    {
     "data": {
      "text/html": [
       "<div>\n",
       "<style scoped>\n",
       "    .dataframe tbody tr th:only-of-type {\n",
       "        vertical-align: middle;\n",
       "    }\n",
       "\n",
       "    .dataframe tbody tr th {\n",
       "        vertical-align: top;\n",
       "    }\n",
       "\n",
       "    .dataframe thead th {\n",
       "        text-align: right;\n",
       "    }\n",
       "</style>\n",
       "<table border=\"1\" class=\"dataframe\">\n",
       "  <thead>\n",
       "    <tr style=\"text-align: right;\">\n",
       "      <th></th>\n",
       "      <th>Date</th>\n",
       "      <th>Open</th>\n",
       "      <th>High</th>\n",
       "      <th>Low</th>\n",
       "      <th>Close</th>\n",
       "      <th>Adj Close</th>\n",
       "      <th>Volume</th>\n",
       "    </tr>\n",
       "  </thead>\n",
       "  <tbody>\n",
       "    <tr>\n",
       "      <th>0</th>\n",
       "      <td>2019-01-02</td>\n",
       "      <td>12.01</td>\n",
       "      <td>13.08</td>\n",
       "      <td>11.90</td>\n",
       "      <td>12.89</td>\n",
       "      <td>11.914325</td>\n",
       "      <td>1374900</td>\n",
       "    </tr>\n",
       "    <tr>\n",
       "      <th>1</th>\n",
       "      <td>2019-01-03</td>\n",
       "      <td>12.80</td>\n",
       "      <td>13.54</td>\n",
       "      <td>12.63</td>\n",
       "      <td>13.06</td>\n",
       "      <td>12.071457</td>\n",
       "      <td>1392400</td>\n",
       "    </tr>\n",
       "    <tr>\n",
       "      <th>2</th>\n",
       "      <td>2019-01-04</td>\n",
       "      <td>13.22</td>\n",
       "      <td>13.69</td>\n",
       "      <td>13.02</td>\n",
       "      <td>13.54</td>\n",
       "      <td>12.515124</td>\n",
       "      <td>1025000</td>\n",
       "    </tr>\n",
       "    <tr>\n",
       "      <th>3</th>\n",
       "      <td>2019-01-07</td>\n",
       "      <td>13.55</td>\n",
       "      <td>14.26</td>\n",
       "      <td>13.37</td>\n",
       "      <td>14.12</td>\n",
       "      <td>13.051222</td>\n",
       "      <td>1119200</td>\n",
       "    </tr>\n",
       "    <tr>\n",
       "      <th>4</th>\n",
       "      <td>2019-01-08</td>\n",
       "      <td>14.21</td>\n",
       "      <td>14.70</td>\n",
       "      <td>14.09</td>\n",
       "      <td>14.57</td>\n",
       "      <td>13.467159</td>\n",
       "      <td>1122700</td>\n",
       "    </tr>\n",
       "  </tbody>\n",
       "</table>\n",
       "</div>"
      ],
      "text/plain": [
       "         Date   Open   High    Low  Close  Adj Close   Volume\n",
       "0  2019-01-02  12.01  13.08  11.90  12.89  11.914325  1374900\n",
       "1  2019-01-03  12.80  13.54  12.63  13.06  12.071457  1392400\n",
       "2  2019-01-04  13.22  13.69  13.02  13.54  12.515124  1025000\n",
       "3  2019-01-07  13.55  14.26  13.37  14.12  13.051222  1119200\n",
       "4  2019-01-08  14.21  14.70  14.09  14.57  13.467159  1122700"
      ]
     },
     "execution_count": 112,
     "metadata": {},
     "output_type": "execute_result"
    }
   ],
   "source": [
    "# Importing AMC Stock for compariso\n",
    "AMC=pd.read_csv(\"C:/Users/shahsh/AMC.csv\")\n",
    "AMC.head()"
   ]
  },
  {
   "cell_type": "code",
   "execution_count": 114,
   "id": "9d0d7aad",
   "metadata": {},
   "outputs": [],
   "source": [
    "DSNY.set_index('Date',inplace=True)\n",
    "NFLX.set_index('Date',inplace=True)\n",
    "AMC.set_index('Date',inplace=True)"
   ]
  },
  {
   "cell_type": "code",
   "execution_count": 116,
   "id": "66c6abdf",
   "metadata": {},
   "outputs": [
    {
     "data": {
      "text/plain": [
       "<AxesSubplot:xlabel='Date'>"
      ]
     },
     "execution_count": 116,
     "metadata": {},
     "output_type": "execute_result"
    },
    {
     "data": {
      "image/png": "[encoded data removed]",
      "text/plain": [
       "<Figure size 864x360 with 1 Axes>"
      ]
     },
     "metadata": {
      "needs_background": "light"
     },
     "output_type": "display_data"
    }
   ],
   "source": [
    "# Plotting AMC Closing price for the same timeline\n",
    "AMC['Close'].plot(legend=True,figsize=(12,5),xlabel='Date')\n"
   ]
  }
 ],
 "metadata": {
  "kernelspec": {
   "display_name": "Python 3",
   "language": "python",
   "name": "python3"
  },
  "language_info": {
   "codemirror_mode": {
    "name": "ipython",
    "version": 3
   },
   "file_extension": ".py",
   "mimetype": "text/x-python",
   "name": "python",
   "nbconvert_exporter": "python",
   "pygments_lexer": "ipython3",
   "version": "3.8.8"
  }
 },
 "nbformat": 4,
 "nbformat_minor": 5
}
